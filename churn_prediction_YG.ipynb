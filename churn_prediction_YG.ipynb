{
 "cells": [
  {
   "cell_type": "code",
   "execution_count": 304,
   "id": "2eeedd01-1b22-4556-a32f-b5bba33698fd",
   "metadata": {},
   "outputs": [],
   "source": [
    "import pandas as pd\n",
    "import numpy as np \n",
    "import pandas as pd \n",
    "import datetime as dt\n",
    "\n",
    "import matplotlib.pyplot as plt\n",
    "import matplotlib.colors as mcolors\n",
    "import seaborn as sns\n",
    "\n",
    "from sklearn.model_selection import cross_val_score\n",
    "from sklearn.model_selection import train_test_split\n",
    "from sklearn.linear_model import LogisticRegression\n",
    "#from sklearn.tree import DecisionTreeClassifier\n",
    "from sklearn.ensemble import RandomForestClassifier\n",
    "#import xgboost as xgb\n",
    "from sklearn.metrics import accuracy_score\n",
    "from sklearn.model_selection import GridSearchCV\n",
    "\n",
    "import os"
   ]
  },
  {
   "cell_type": "markdown",
   "id": "4a80550a-41e1-4bf7-826d-a952c6023e39",
   "metadata": {},
   "source": [
    "## ML model to predict subscribers’ churn\n"
   ]
  },
  {
   "cell_type": "code",
   "execution_count": 314,
   "id": "609eb82e-aa3d-4e5f-8ee1-862ca587cfc6",
   "metadata": {},
   "outputs": [
    {
     "data": {
      "text/html": [
       "<div>\n",
       "<style scoped>\n",
       "    .dataframe tbody tr th:only-of-type {\n",
       "        vertical-align: middle;\n",
       "    }\n",
       "\n",
       "    .dataframe tbody tr th {\n",
       "        vertical-align: top;\n",
       "    }\n",
       "\n",
       "    .dataframe thead th {\n",
       "        text-align: right;\n",
       "    }\n",
       "</style>\n",
       "<table border=\"1\" class=\"dataframe\">\n",
       "  <thead>\n",
       "    <tr style=\"text-align: right;\">\n",
       "      <th></th>\n",
       "      <th>account_id</th>\n",
       "      <th>plan</th>\n",
       "      <th>currency</th>\n",
       "      <th>cohort_start_date</th>\n",
       "      <th>number_of_payments</th>\n",
       "      <th>gender</th>\n",
       "      <th>genre1</th>\n",
       "      <th>genre2</th>\n",
       "      <th>type</th>\n",
       "      <th>games</th>\n",
       "      <th>age</th>\n",
       "      <th>hours</th>\n",
       "      <th>is_churner</th>\n",
       "      <th>one_two_payments</th>\n",
       "    </tr>\n",
       "  </thead>\n",
       "  <tbody>\n",
       "    <tr>\n",
       "      <th>0</th>\n",
       "      <td>564213846</td>\n",
       "      <td>SMALL</td>\n",
       "      <td>USD</td>\n",
       "      <td>2019-04-01 00:00:00+02</td>\n",
       "      <td>2</td>\n",
       "      <td>male</td>\n",
       "      <td>action</td>\n",
       "      <td>simulation</td>\n",
       "      <td>mobile</td>\n",
       "      <td>7</td>\n",
       "      <td>21</td>\n",
       "      <td>12.517218</td>\n",
       "      <td>1</td>\n",
       "      <td>1</td>\n",
       "    </tr>\n",
       "    <tr>\n",
       "      <th>1</th>\n",
       "      <td>255842811</td>\n",
       "      <td>SMALL</td>\n",
       "      <td>EUR</td>\n",
       "      <td>2019-11-01 00:00:00+01</td>\n",
       "      <td>5</td>\n",
       "      <td>male</td>\n",
       "      <td>simulation</td>\n",
       "      <td>sports</td>\n",
       "      <td>computer</td>\n",
       "      <td>7</td>\n",
       "      <td>24</td>\n",
       "      <td>1.466285</td>\n",
       "      <td>1</td>\n",
       "      <td>0</td>\n",
       "    </tr>\n",
       "    <tr>\n",
       "      <th>2</th>\n",
       "      <td>50117180</td>\n",
       "      <td>SMALL</td>\n",
       "      <td>EUR</td>\n",
       "      <td>2019-11-01 00:00:00+01</td>\n",
       "      <td>12</td>\n",
       "      <td>female</td>\n",
       "      <td>adventure</td>\n",
       "      <td>strategy</td>\n",
       "      <td>computer</td>\n",
       "      <td>8</td>\n",
       "      <td>33</td>\n",
       "      <td>9.266135</td>\n",
       "      <td>0</td>\n",
       "      <td>0</td>\n",
       "    </tr>\n",
       "    <tr>\n",
       "      <th>3</th>\n",
       "      <td>629564594</td>\n",
       "      <td>LARGE</td>\n",
       "      <td>EUR</td>\n",
       "      <td>2020-11-01 00:00:00+01</td>\n",
       "      <td>1</td>\n",
       "      <td>female</td>\n",
       "      <td>adventure</td>\n",
       "      <td>action</td>\n",
       "      <td>mobile</td>\n",
       "      <td>9</td>\n",
       "      <td>26</td>\n",
       "      <td>12.491518</td>\n",
       "      <td>1</td>\n",
       "      <td>1</td>\n",
       "    </tr>\n",
       "    <tr>\n",
       "      <th>4</th>\n",
       "      <td>945851052</td>\n",
       "      <td>SMALL</td>\n",
       "      <td>USD</td>\n",
       "      <td>2019-06-01 00:00:00+02</td>\n",
       "      <td>19</td>\n",
       "      <td>female</td>\n",
       "      <td>action</td>\n",
       "      <td>action</td>\n",
       "      <td>computer</td>\n",
       "      <td>5</td>\n",
       "      <td>29</td>\n",
       "      <td>7.874287</td>\n",
       "      <td>0</td>\n",
       "      <td>0</td>\n",
       "    </tr>\n",
       "  </tbody>\n",
       "</table>\n",
       "</div>"
      ],
      "text/plain": [
       "   account_id   plan currency       cohort_start_date  number_of_payments  \\\n",
       "0   564213846  SMALL      USD  2019-04-01 00:00:00+02                   2   \n",
       "1   255842811  SMALL      EUR  2019-11-01 00:00:00+01                   5   \n",
       "2    50117180  SMALL      EUR  2019-11-01 00:00:00+01                  12   \n",
       "3   629564594  LARGE      EUR  2020-11-01 00:00:00+01                   1   \n",
       "4   945851052  SMALL      USD  2019-06-01 00:00:00+02                  19   \n",
       "\n",
       "   gender      genre1      genre2      type  games  age      hours  \\\n",
       "0    male      action  simulation    mobile      7   21  12.517218   \n",
       "1    male  simulation      sports  computer      7   24   1.466285   \n",
       "2  female   adventure    strategy  computer      8   33   9.266135   \n",
       "3  female   adventure      action    mobile      9   26  12.491518   \n",
       "4  female      action      action  computer      5   29   7.874287   \n",
       "\n",
       "   is_churner  one_two_payments  \n",
       "0           1                 1  \n",
       "1           1                 0  \n",
       "2           0                 0  \n",
       "3           1                 1  \n",
       "4           0                 0  "
      ]
     },
     "execution_count": 314,
     "metadata": {},
     "output_type": "execute_result"
    }
   ],
   "source": [
    "df = pd.read_csv('DataForModeling_2.csv')\n",
    "df.head()"
   ]
  },
  {
   "cell_type": "code",
   "execution_count": 315,
   "id": "83f30f3b-0155-441b-8b4f-7a16fa2f0ead",
   "metadata": {},
   "outputs": [
    {
     "name": "stdout",
     "output_type": "stream",
     "text": [
      "<class 'pandas.core.frame.DataFrame'>\n",
      "RangeIndex: 2000 entries, 0 to 1999\n",
      "Data columns (total 14 columns):\n",
      " #   Column              Non-Null Count  Dtype  \n",
      "---  ------              --------------  -----  \n",
      " 0   account_id          2000 non-null   int64  \n",
      " 1   plan                2000 non-null   object \n",
      " 2   currency            2000 non-null   object \n",
      " 3   cohort_start_date   2000 non-null   object \n",
      " 4   number_of_payments  2000 non-null   int64  \n",
      " 5   gender              2000 non-null   object \n",
      " 6   genre1              2000 non-null   object \n",
      " 7   genre2              2000 non-null   object \n",
      " 8   type                2000 non-null   object \n",
      " 9   games               2000 non-null   int64  \n",
      " 10  age                 2000 non-null   int64  \n",
      " 11  hours               2000 non-null   float64\n",
      " 12  is_churner          2000 non-null   int64  \n",
      " 13  one_two_payments    2000 non-null   int64  \n",
      "dtypes: float64(1), int64(6), object(7)\n",
      "memory usage: 218.9+ KB\n"
     ]
    }
   ],
   "source": [
    "df.info()"
   ]
  },
  {
   "cell_type": "code",
   "execution_count": 316,
   "id": "f74e1cae-2113-4050-93f5-0d6b60ad2a5e",
   "metadata": {},
   "outputs": [],
   "source": [
    "# making a copy for future predictions\n",
    "df_prediction = df.copy()"
   ]
  },
  {
   "cell_type": "code",
   "execution_count": 317,
   "id": "89bd11fe-4a7d-4d1b-aba8-0216825cb9ed",
   "metadata": {},
   "outputs": [],
   "source": [
    "# Assumption 1: all payments that exist per account are sequentilal, i.e. no account_id was paused and resumed payments\n",
    "# Assumption 2: user activity is a summary of game playing for thee first 3 months of subscription\n",
    "# NOTE: Only user who made more than 2 payments will be considered for the modeling"
   ]
  },
  {
   "cell_type": "code",
   "execution_count": 318,
   "id": "3fb4a497-f16c-42ae-aac5-5f4973375362",
   "metadata": {},
   "outputs": [
    {
     "data": {
      "text/plain": [
       "2000"
      ]
     },
     "execution_count": 318,
     "metadata": {},
     "output_type": "execute_result"
    }
   ],
   "source": [
    "df['account_id'].value_counts().sum()"
   ]
  },
  {
   "cell_type": "code",
   "execution_count": 319,
   "id": "3f7a92ca-38f4-4e88-929b-c2ffa2a1e458",
   "metadata": {},
   "outputs": [
    {
     "name": "stdout",
     "output_type": "stream",
     "text": [
      "<class 'pandas.core.frame.DataFrame'>\n",
      "RangeIndex: 1302 entries, 0 to 1301\n",
      "Data columns (total 14 columns):\n",
      " #   Column              Non-Null Count  Dtype  \n",
      "---  ------              --------------  -----  \n",
      " 0   account_id          1302 non-null   int64  \n",
      " 1   plan                1302 non-null   object \n",
      " 2   currency            1302 non-null   object \n",
      " 3   cohort_start_date   1302 non-null   object \n",
      " 4   number_of_payments  1302 non-null   int64  \n",
      " 5   gender              1302 non-null   object \n",
      " 6   genre1              1302 non-null   object \n",
      " 7   genre2              1302 non-null   object \n",
      " 8   type                1302 non-null   object \n",
      " 9   games               1302 non-null   int64  \n",
      " 10  age                 1302 non-null   int64  \n",
      " 11  hours               1302 non-null   float64\n",
      " 12  is_churner          1302 non-null   int64  \n",
      " 13  one_two_payments    1302 non-null   int64  \n",
      "dtypes: float64(1), int64(6), object(7)\n",
      "memory usage: 142.5+ KB\n"
     ]
    }
   ],
   "source": [
    "# filtering out users who made 2 payments or less\n",
    "df = df[(df['number_of_payments'] > 2)].reset_index(drop=True)\n",
    "df.info()"
   ]
  },
  {
   "cell_type": "code",
   "execution_count": 320,
   "id": "30a20e2c-4be5-458f-af43-07cab24a1015",
   "metadata": {},
   "outputs": [
    {
     "name": "stdout",
     "output_type": "stream",
     "text": [
      "<class 'pandas.core.frame.DataFrame'>\n",
      "Index: 1191 entries, 0 to 1301\n",
      "Data columns (total 11 columns):\n",
      " #   Column      Non-Null Count  Dtype  \n",
      "---  ------      --------------  -----  \n",
      " 0   account_id  1191 non-null   int64  \n",
      " 1   plan        1191 non-null   object \n",
      " 2   currency    1191 non-null   object \n",
      " 3   gender      1191 non-null   object \n",
      " 4   genre1      1191 non-null   object \n",
      " 5   genre2      1191 non-null   object \n",
      " 6   type        1191 non-null   object \n",
      " 7   games       1191 non-null   int64  \n",
      " 8   age         1191 non-null   int64  \n",
      " 9   hours       1191 non-null   float64\n",
      " 10  is_churner  1191 non-null   int64  \n",
      "dtypes: float64(1), int64(4), object(6)\n",
      "memory usage: 111.7+ KB\n"
     ]
    }
   ],
   "source": [
    "# filtering out users with unknown is_churn status\n",
    "# df = df[(df['is_churner'] != 2)]\n",
    "\n",
    "# columns_to_drop = ['account_id', 'number_of_payments', 'cohort_start_date', 'one_two_payments', 'gender', 'currency']\n",
    "columns_to_drop = ['number_of_payments', 'cohort_start_date', 'one_two_payments']\n",
    "\n",
    "df.drop(columns=columns_to_drop, inplace=True)\n",
    "df.reset_index(drop=True, inplace=True)\n",
    "\n",
    "# variable info after recoding and non-relevant variables drop for is_churner 0/1\n",
    "\n",
    "df_eda = df[(df['is_churner'] != 2)]\n",
    "df_eda.info()"
   ]
  },
  {
   "cell_type": "code",
   "execution_count": 321,
   "id": "7e94987e-4a61-4b81-a336-3d0dac5dc215",
   "metadata": {},
   "outputs": [
    {
     "data": {
      "text/plain": [
       "is_churner\n",
       "0    843\n",
       "1    348\n",
       "Name: count, dtype: int64"
      ]
     },
     "execution_count": 321,
     "metadata": {},
     "output_type": "execute_result"
    }
   ],
   "source": [
    "df_eda['is_churner'].value_counts()"
   ]
  },
  {
   "cell_type": "code",
   "execution_count": 322,
   "id": "f3a6b107-fb5f-4a5d-8497-1e2c146d574f",
   "metadata": {},
   "outputs": [
    {
     "data": {
      "image/png": "[encoded data removed]",
      "text/plain": [
       "<Figure size 400x300 with 1 Axes>"
      ]
     },
     "metadata": {},
     "output_type": "display_data"
    },
    {
     "data": {
      "image/png": "[encoded data removed]",
      "text/plain": [
       "<Figure size 400x300 with 1 Axes>"
      ]
     },
     "metadata": {},
     "output_type": "display_data"
    },
    {
     "data": {
      "image/png": "[encoded data removed]",
      "text/plain": [
       "<Figure size 400x300 with 1 Axes>"
      ]
     },
     "metadata": {},
     "output_type": "display_data"
    }
   ],
   "source": [
    "num_columns = ['age', 'games', 'hours']\n",
    "\n",
    "for col in num_columns:\n",
    "    plt.figure(figsize=(4, 3))\n",
    "    plt.hist(df_eda[col], bins=20, color='teal', edgecolor='black')\n",
    "    #sns.histplot(data=df[num_columns], bins=20, kde=True, multiple=\"stack\", palette=\"muted\")\n",
    "    #plt.hist(df[df['is_churner'] == 1][col], bins=20, color='orange', edgecolor='black', alpha=0.7, label='Churners')\n",
    "    sns.set_style(\"darkgrid\")\n",
    "    plt.title(f'User {col} distribution')\n",
    "    plt.xlabel(col)\n",
    "    plt.ylabel('Frequency')\n",
    "    plt.show()"
   ]
  },
  {
   "cell_type": "code",
   "execution_count": 323,
   "id": "70355656-f2b6-40c6-b06d-0a666a75eff0",
   "metadata": {},
   "outputs": [
    {
     "data": {
      "image/png": "[encoded data removed]",
      "text/plain": [
       "<Figure size 500x400 with 1 Axes>"
      ]
     },
     "metadata": {},
     "output_type": "display_data"
    }
   ],
   "source": [
    "plt.figure(figsize=(5, 4))\n",
    "sns.boxplot(data=df_eda[num_columns], palette='viridis')\n",
    "plt.title('Distribution of Age, Games, and Hours')\n",
    "plt.xlabel('Columns')\n",
    "plt.ylabel('Values')\n",
    "plt.show()"
   ]
  },
  {
   "cell_type": "code",
   "execution_count": 324,
   "id": "a8956512-5b79-41df-9bc3-f468f4e167d9",
   "metadata": {},
   "outputs": [
    {
     "name": "stdout",
     "output_type": "stream",
     "text": [
      "plan\n",
      "SMALL     990\n",
      "MEDIUM    143\n",
      "LARGE      58\n",
      "Name: count, dtype: int64\n"
     ]
    },
    {
     "data": {
      "image/png": "[encoded data removed]",
      "text/plain": [
       "<Figure size 400x300 with 1 Axes>"
      ]
     },
     "metadata": {},
     "output_type": "display_data"
    },
    {
     "name": "stdout",
     "output_type": "stream",
     "text": [
      "currency\n",
      "EUR    635\n",
      "USD    556\n",
      "Name: count, dtype: int64\n"
     ]
    },
    {
     "data": {
      "image/png": "[encoded data removed]",
      "text/plain": [
       "<Figure size 400x300 with 1 Axes>"
      ]
     },
     "metadata": {},
     "output_type": "display_data"
    },
    {
     "name": "stdout",
     "output_type": "stream",
     "text": [
      "gender\n",
      "male      830\n",
      "female    361\n",
      "Name: count, dtype: int64\n"
     ]
    },
    {
     "data": {
      "image/png": "[encoded data removed]",
      "text/plain": [
       "<Figure size 400x300 with 1 Axes>"
      ]
     },
     "metadata": {},
     "output_type": "display_data"
    },
    {
     "name": "stdout",
     "output_type": "stream",
     "text": [
      "type\n",
      "computer    738\n",
      "mobile      379\n",
      "tablet       74\n",
      "Name: count, dtype: int64\n"
     ]
    },
    {
     "data": {
      "image/png": "[encoded data removed]",
      "text/plain": [
       "<Figure size 400x300 with 1 Axes>"
      ]
     },
     "metadata": {},
     "output_type": "display_data"
    },
    {
     "name": "stdout",
     "output_type": "stream",
     "text": [
      "genre1\n",
      "action          342\n",
      "adventure       265\n",
      "role-playing    214\n",
      "sports          157\n",
      "strategy        109\n",
      "simulation      104\n",
      "Name: count, dtype: int64\n"
     ]
    },
    {
     "data": {
      "image/png": "[encoded data removed]",
      "text/plain": [
       "<Figure size 400x300 with 1 Axes>"
      ]
     },
     "metadata": {},
     "output_type": "display_data"
    },
    {
     "name": "stdout",
     "output_type": "stream",
     "text": [
      "genre2\n",
      "adventure       336\n",
      "action          264\n",
      "role-playing    196\n",
      "sports          162\n",
      "strategy        157\n",
      "simulation       76\n",
      "Name: count, dtype: int64\n"
     ]
    },
    {
     "data": {
      "image/png": "[encoded data removed]",
      "text/plain": [
       "<Figure size 400x300 with 1 Axes>"
      ]
     },
     "metadata": {},
     "output_type": "display_data"
    }
   ],
   "source": [
    "cat_columns = ['plan', 'currency', 'gender', 'type', 'genre1', 'genre2']\n",
    "\n",
    "for col in cat_columns:\n",
    "\n",
    "    # calculate category count for each variable\n",
    "    vc = df_eda[col].value_counts()\n",
    "    print(vc)\n",
    "\n",
    "    # plot category count for each variable\n",
    "    plt.figure(figsize=(4, 3))\n",
    "    sns.countplot(x=df_eda[col], color='teal', edgecolor='black')\n",
    "    plt.title(f'User {col}  Distribution')\n",
    "    plt.xlabel(col)\n",
    "    plt.ylabel('Number of Users')\n",
    "    plt.xticks(rotation=45)\n",
    "    plt.show()"
   ]
  },
  {
   "cell_type": "code",
   "execution_count": 325,
   "id": "aa2db9fe-714d-4acf-80fd-bcea118a5ca1",
   "metadata": {},
   "outputs": [
    {
     "data": {
      "text/plain": [
       "is_churner\n",
       "0    843\n",
       "1    348\n",
       "Name: count, dtype: int64"
      ]
     },
     "execution_count": 325,
     "metadata": {},
     "output_type": "execute_result"
    }
   ],
   "source": [
    "df_eda['is_churner'].value_counts()"
   ]
  },
  {
   "cell_type": "code",
   "execution_count": 326,
   "id": "3ab517f3-ab47-4a24-b461-3737f945ca2b",
   "metadata": {},
   "outputs": [
    {
     "data": {
      "image/png": "[encoded data removed]",
      "text/plain": [
       "<Figure size 300x300 with 1 Axes>"
      ]
     },
     "metadata": {},
     "output_type": "display_data"
    }
   ],
   "source": [
    "# Category count in the target variable distribution: 'is_churner' \n",
    "churn_counts = df_eda['is_churner'].value_counts()\n",
    "\n",
    "# Pie chart of the category proportion\n",
    "plt.figure(figsize=(3, 3))\n",
    "\n",
    "plt.pie(churn_counts, labels=['Non-Churners', 'Churners'], autopct='%1.1f%%', startangle=90, \\\n",
    "        colors=['teal', 'orange'])\n",
    "\n",
    "plt.title('Proportion of Churners vs. Non-churners')\n",
    "#plt.savefig('proportion_churners.png', bbox_inches='tight')\n",
    "\n",
    "plt.show()\n"
   ]
  },
  {
   "cell_type": "markdown",
   "id": "c5aaa5b8-3d63-4997-9ba2-0c7d9721e53f",
   "metadata": {},
   "source": [
    "## Preparing data for the modeling"
   ]
  },
  {
   "cell_type": "markdown",
   "id": "4c4dab86-cbe9-4f39-be4e-742ccc8455cd",
   "metadata": {},
   "source": [
    "### Encoding"
   ]
  },
  {
   "cell_type": "code",
   "execution_count": 327,
   "id": "888cb3b6-9ccc-44b0-9fe0-881b664c8886",
   "metadata": {},
   "outputs": [],
   "source": [
    "# Applying binary encoding to gender, currency\n",
    "df['is_female'] = df['gender'].map({'male': 0, 'female': 1}).astype(bool)\n",
    "df['is_eur'] = df['currency'].map({'USD': 0, 'EUR': 1}).astype(bool)\n",
    "\n",
    "# Ensuring binary encoding for the target variable: is_churner\n",
    "\n",
    "#df['is_churner'] = df['is_churner'].astype(bool) \n",
    "\n",
    "# dropping the original columns that were recoded\n",
    "columns_to_drop = ['gender', 'currency']\n",
    "df.drop(columns=columns_to_drop, inplace=True)\n",
    "df.reset_index(drop=True, inplace=True)"
   ]
  },
  {
   "cell_type": "code",
   "execution_count": 328,
   "id": "769e85ca-462e-4486-91a5-2cd115302e12",
   "metadata": {},
   "outputs": [],
   "source": [
    "# Applying one-hot encoding to categorical variables with more than 2 categories \n",
    "columns_to_encode = ['plan', 'genre1', 'genre2', 'type']\n",
    "df = pd.get_dummies(df, columns=columns_to_encode)"
   ]
  },
  {
   "cell_type": "code",
   "execution_count": 329,
   "id": "b56a98d0-7020-481f-8b2c-62451ee3485b",
   "metadata": {},
   "outputs": [
    {
     "name": "stdout",
     "output_type": "stream",
     "text": [
      "<class 'pandas.core.frame.DataFrame'>\n",
      "RangeIndex: 1302 entries, 0 to 1301\n",
      "Data columns (total 25 columns):\n",
      " #   Column               Non-Null Count  Dtype  \n",
      "---  ------               --------------  -----  \n",
      " 0   account_id           1302 non-null   int64  \n",
      " 1   games                1302 non-null   int64  \n",
      " 2   age                  1302 non-null   int64  \n",
      " 3   hours                1302 non-null   float64\n",
      " 4   is_churner           1302 non-null   int64  \n",
      " 5   is_female            1302 non-null   bool   \n",
      " 6   is_eur               1302 non-null   bool   \n",
      " 7   plan_LARGE           1302 non-null   bool   \n",
      " 8   plan_MEDIUM          1302 non-null   bool   \n",
      " 9   plan_SMALL           1302 non-null   bool   \n",
      " 10  genre1_action        1302 non-null   bool   \n",
      " 11  genre1_adventure     1302 non-null   bool   \n",
      " 12  genre1_role-playing  1302 non-null   bool   \n",
      " 13  genre1_simulation    1302 non-null   bool   \n",
      " 14  genre1_sports        1302 non-null   bool   \n",
      " 15  genre1_strategy      1302 non-null   bool   \n",
      " 16  genre2_action        1302 non-null   bool   \n",
      " 17  genre2_adventure     1302 non-null   bool   \n",
      " 18  genre2_role-playing  1302 non-null   bool   \n",
      " 19  genre2_simulation    1302 non-null   bool   \n",
      " 20  genre2_sports        1302 non-null   bool   \n",
      " 21  genre2_strategy      1302 non-null   bool   \n",
      " 22  type_computer        1302 non-null   bool   \n",
      " 23  type_mobile          1302 non-null   bool   \n",
      " 24  type_tablet          1302 non-null   bool   \n",
      "dtypes: bool(20), float64(1), int64(4)\n",
      "memory usage: 76.4 KB\n"
     ]
    }
   ],
   "source": [
    "df.info()"
   ]
  },
  {
   "cell_type": "code",
   "execution_count": 330,
   "id": "3f40fe84-2622-40d5-88d4-6f5af5e55ce0",
   "metadata": {},
   "outputs": [
    {
     "data": {
      "text/html": [
       "<div>\n",
       "<style scoped>\n",
       "    .dataframe tbody tr th:only-of-type {\n",
       "        vertical-align: middle;\n",
       "    }\n",
       "\n",
       "    .dataframe tbody tr th {\n",
       "        vertical-align: top;\n",
       "    }\n",
       "\n",
       "    .dataframe thead th {\n",
       "        text-align: right;\n",
       "    }\n",
       "</style>\n",
       "<table border=\"1\" class=\"dataframe\">\n",
       "  <thead>\n",
       "    <tr style=\"text-align: right;\">\n",
       "      <th></th>\n",
       "      <th>account_id</th>\n",
       "      <th>games</th>\n",
       "      <th>age</th>\n",
       "      <th>hours</th>\n",
       "      <th>is_churner</th>\n",
       "      <th>is_female</th>\n",
       "      <th>is_eur</th>\n",
       "      <th>plan_LARGE</th>\n",
       "      <th>plan_MEDIUM</th>\n",
       "      <th>plan_SMALL</th>\n",
       "      <th>...</th>\n",
       "      <th>genre1_strategy</th>\n",
       "      <th>genre2_action</th>\n",
       "      <th>genre2_adventure</th>\n",
       "      <th>genre2_role-playing</th>\n",
       "      <th>genre2_simulation</th>\n",
       "      <th>genre2_sports</th>\n",
       "      <th>genre2_strategy</th>\n",
       "      <th>type_computer</th>\n",
       "      <th>type_mobile</th>\n",
       "      <th>type_tablet</th>\n",
       "    </tr>\n",
       "  </thead>\n",
       "  <tbody>\n",
       "    <tr>\n",
       "      <th>0</th>\n",
       "      <td>255842811</td>\n",
       "      <td>7</td>\n",
       "      <td>24</td>\n",
       "      <td>1.466285</td>\n",
       "      <td>1</td>\n",
       "      <td>False</td>\n",
       "      <td>True</td>\n",
       "      <td>False</td>\n",
       "      <td>False</td>\n",
       "      <td>True</td>\n",
       "      <td>...</td>\n",
       "      <td>False</td>\n",
       "      <td>False</td>\n",
       "      <td>False</td>\n",
       "      <td>False</td>\n",
       "      <td>False</td>\n",
       "      <td>True</td>\n",
       "      <td>False</td>\n",
       "      <td>True</td>\n",
       "      <td>False</td>\n",
       "      <td>False</td>\n",
       "    </tr>\n",
       "    <tr>\n",
       "      <th>1</th>\n",
       "      <td>50117180</td>\n",
       "      <td>8</td>\n",
       "      <td>33</td>\n",
       "      <td>9.266135</td>\n",
       "      <td>0</td>\n",
       "      <td>True</td>\n",
       "      <td>True</td>\n",
       "      <td>False</td>\n",
       "      <td>False</td>\n",
       "      <td>True</td>\n",
       "      <td>...</td>\n",
       "      <td>False</td>\n",
       "      <td>False</td>\n",
       "      <td>False</td>\n",
       "      <td>False</td>\n",
       "      <td>False</td>\n",
       "      <td>False</td>\n",
       "      <td>True</td>\n",
       "      <td>True</td>\n",
       "      <td>False</td>\n",
       "      <td>False</td>\n",
       "    </tr>\n",
       "    <tr>\n",
       "      <th>2</th>\n",
       "      <td>945851052</td>\n",
       "      <td>5</td>\n",
       "      <td>29</td>\n",
       "      <td>7.874287</td>\n",
       "      <td>0</td>\n",
       "      <td>True</td>\n",
       "      <td>False</td>\n",
       "      <td>False</td>\n",
       "      <td>False</td>\n",
       "      <td>True</td>\n",
       "      <td>...</td>\n",
       "      <td>False</td>\n",
       "      <td>True</td>\n",
       "      <td>False</td>\n",
       "      <td>False</td>\n",
       "      <td>False</td>\n",
       "      <td>False</td>\n",
       "      <td>False</td>\n",
       "      <td>True</td>\n",
       "      <td>False</td>\n",
       "      <td>False</td>\n",
       "    </tr>\n",
       "    <tr>\n",
       "      <th>3</th>\n",
       "      <td>414068704</td>\n",
       "      <td>20</td>\n",
       "      <td>38</td>\n",
       "      <td>7.023802</td>\n",
       "      <td>0</td>\n",
       "      <td>True</td>\n",
       "      <td>False</td>\n",
       "      <td>False</td>\n",
       "      <td>False</td>\n",
       "      <td>True</td>\n",
       "      <td>...</td>\n",
       "      <td>True</td>\n",
       "      <td>False</td>\n",
       "      <td>False</td>\n",
       "      <td>False</td>\n",
       "      <td>False</td>\n",
       "      <td>True</td>\n",
       "      <td>False</td>\n",
       "      <td>True</td>\n",
       "      <td>False</td>\n",
       "      <td>False</td>\n",
       "    </tr>\n",
       "    <tr>\n",
       "      <th>4</th>\n",
       "      <td>252693469</td>\n",
       "      <td>9</td>\n",
       "      <td>27</td>\n",
       "      <td>7.638967</td>\n",
       "      <td>1</td>\n",
       "      <td>True</td>\n",
       "      <td>False</td>\n",
       "      <td>False</td>\n",
       "      <td>False</td>\n",
       "      <td>True</td>\n",
       "      <td>...</td>\n",
       "      <td>False</td>\n",
       "      <td>False</td>\n",
       "      <td>False</td>\n",
       "      <td>False</td>\n",
       "      <td>False</td>\n",
       "      <td>True</td>\n",
       "      <td>False</td>\n",
       "      <td>True</td>\n",
       "      <td>False</td>\n",
       "      <td>False</td>\n",
       "    </tr>\n",
       "  </tbody>\n",
       "</table>\n",
       "<p>5 rows × 25 columns</p>\n",
       "</div>"
      ],
      "text/plain": [
       "   account_id  games  age     hours  is_churner  is_female  is_eur  \\\n",
       "0   255842811      7   24  1.466285           1      False    True   \n",
       "1    50117180      8   33  9.266135           0       True    True   \n",
       "2   945851052      5   29  7.874287           0       True   False   \n",
       "3   414068704     20   38  7.023802           0       True   False   \n",
       "4   252693469      9   27  7.638967           1       True   False   \n",
       "\n",
       "   plan_LARGE  plan_MEDIUM  plan_SMALL  ...  genre1_strategy  genre2_action  \\\n",
       "0       False        False        True  ...            False          False   \n",
       "1       False        False        True  ...            False          False   \n",
       "2       False        False        True  ...            False           True   \n",
       "3       False        False        True  ...             True          False   \n",
       "4       False        False        True  ...            False          False   \n",
       "\n",
       "   genre2_adventure  genre2_role-playing  genre2_simulation  genre2_sports  \\\n",
       "0             False                False              False           True   \n",
       "1             False                False              False          False   \n",
       "2             False                False              False          False   \n",
       "3             False                False              False           True   \n",
       "4             False                False              False           True   \n",
       "\n",
       "   genre2_strategy  type_computer  type_mobile  type_tablet  \n",
       "0            False           True        False        False  \n",
       "1             True           True        False        False  \n",
       "2            False           True        False        False  \n",
       "3            False           True        False        False  \n",
       "4            False           True        False        False  \n",
       "\n",
       "[5 rows x 25 columns]"
      ]
     },
     "execution_count": 330,
     "metadata": {},
     "output_type": "execute_result"
    }
   ],
   "source": [
    "df.head()"
   ]
  },
  {
   "cell_type": "markdown",
   "id": "5214bf2b-8154-4c57-8be7-a22d88863af1",
   "metadata": {},
   "source": [
    "### Independent and target variables for the model"
   ]
  },
  {
   "cell_type": "code",
   "execution_count": 331,
   "id": "bb804c41-29df-4c9a-b492-d3abf5152213",
   "metadata": {},
   "outputs": [],
   "source": [
    "df_model = df[(df['is_churner'] != 2)]"
   ]
  },
  {
   "cell_type": "code",
   "execution_count": 332,
   "id": "a56685b0-be35-479b-a9bf-7ed39948a688",
   "metadata": {},
   "outputs": [],
   "source": [
    "# Step 1: Train-Test Split\n",
    "\n",
    "# Separate features and target variable\n",
    "# dropping account_id - not needed for the model\n",
    "\n",
    "X = df_model.drop(['is_churner', 'account_id'], axis=1)\n",
    "y = df_model['is_churner']  "
   ]
  },
  {
   "cell_type": "code",
   "execution_count": 333,
   "id": "dbcdacbd-33e4-4dc3-aeaa-3b120c8d62ea",
   "metadata": {},
   "outputs": [],
   "source": [
    "# Split the data into training and testing sets\n",
    "X_train, X_test, y_train, y_test = train_test_split(X, y, test_size=0.2, random_state=42)"
   ]
  },
  {
   "cell_type": "code",
   "execution_count": 334,
   "id": "bef29a9e-43d7-44dc-bf31-5fdf6d0e0840",
   "metadata": {},
   "outputs": [
    {
     "name": "stdout",
     "output_type": "stream",
     "text": [
      "Cross-Validation Accuracy: 0.74 (mean) +/- 0.02 (std)\n",
      "Logistic Regression Accuracy: 0.80\n"
     ]
    }
   ],
   "source": [
    "# Step 2: Logistic Regression\n",
    "logreg_model_v1 = LogisticRegression(max_iter=3000)\n",
    "#  cross-validation\n",
    "cv_scores = cross_val_score(logreg_model_v1, X_train, y_train, cv=5)  \n",
    "logreg_model_v1.fit(X_train, y_train)\n",
    "logreg_predictions = logreg_model_v1.predict(X_test)\n",
    "logreg_accuracy = accuracy_score(y_test, logreg_predictions)\n",
    "print(f'Cross-Validation Accuracy: {cv_scores.mean():.2f} (mean) +/- {cv_scores.std():.2f} (std)')\n",
    "print(f'Logistic Regression Accuracy: {logreg_accuracy:.2f}')"
   ]
  },
  {
   "cell_type": "code",
   "execution_count": 335,
   "id": "7debaf16-4412-4cc0-a20c-e39b25ca7137",
   "metadata": {},
   "outputs": [
    {
     "name": "stdout",
     "output_type": "stream",
     "text": [
      "Top Predictors and their Coefficients:\n",
      "           Predictor  Coefficient\n",
      "4             is_eur     0.872875\n",
      "5         plan_LARGE     0.866098\n",
      "7         plan_SMALL    -0.820469\n",
      "18     genre2_sports     0.469113\n",
      "15  genre2_adventure    -0.376978\n"
     ]
    }
   ],
   "source": [
    "# Get the predictors and their coefficients\n",
    "coef_df = pd.DataFrame({\n",
    "    'Predictor': X_train.columns,\n",
    "    'Coefficient': logreg_model_v1.coef_[0]\n",
    "})\n",
    "\n",
    "# Sort to identify the most important ones\n",
    "coef_df['Abs_Coefficient'] = coef_df['Coefficient'].abs()\n",
    "sorted_coef_df = coef_df.sort_values(by='Abs_Coefficient', ascending=False)\n",
    "\n",
    "print(\"Top Predictors and their Coefficients:\")\n",
    "print(sorted_coef_df[['Predictor', 'Coefficient']].head(5))"
   ]
  },
  {
   "cell_type": "code",
   "execution_count": 336,
   "id": "5e77eb32-6b7d-4338-9389-e8eb5952737e",
   "metadata": {},
   "outputs": [
    {
     "name": "stdout",
     "output_type": "stream",
     "text": [
      "Logistic Regression Accuracy: 0.80\n",
      "Sensitivity (Recall): 0.42\n",
      "Specificity: 0.94\n",
      "Positive Predictive Value (Precision): 0.73\n",
      "Negative Predictive Value: 0.82\n",
      "[[165  10]\n",
      " [ 37  27]]\n"
     ]
    }
   ],
   "source": [
    "from sklearn.metrics import confusion_matrix, precision_score, recall_score, accuracy_score\n",
    "conf_matrix = confusion_matrix(y_test, logreg_predictions)\n",
    "tn, fp, fn, tp = conf_matrix.ravel()\n",
    "# Sensitivity (Recall)\n",
    "sensitivity = recall_score(y_test, logreg_predictions)\n",
    "# Specificity\n",
    "specificity = tn / (tn + fp)\n",
    "# Positive Predictive Value (Precision)\n",
    "ppv = precision_score(y_test, logreg_predictions)\n",
    "# Negative Predictive Value\n",
    "npv = tn / (tn + fn)\n",
    "# Accuracy\n",
    "accuracy = accuracy_score(y_test, logreg_predictions)\n",
    "print(f'Logistic Regression Accuracy: {accuracy:.2f}')\n",
    "print(f'Sensitivity (Recall): {sensitivity:.2f}')\n",
    "print(f'Specificity: {specificity:.2f}')\n",
    "print(f'Positive Predictive Value (Precision): {ppv:.2f}')\n",
    "print(f'Negative Predictive Value: {npv:.2f}')\n",
    "print(conf_matrix)\n",
    "classification_rep = classification_report(y_test, logreg_predictions)\n"
   ]
  },
  {
   "cell_type": "code",
   "execution_count": 337,
   "id": "07e432db-b5fb-40e4-a557-9461d7e5a191",
   "metadata": {},
   "outputs": [],
   "source": [
    "df_copy = df.copy()"
   ]
  },
  {
   "cell_type": "code",
   "execution_count": 338,
   "id": "ece83e75-a24b-4ba3-bdd8-c11cdb1312d9",
   "metadata": {},
   "outputs": [
    {
     "name": "stdout",
     "output_type": "stream",
     "text": [
      "Random Forest Classifier Accuracy: 0.79\n"
     ]
    }
   ],
   "source": [
    "# Step 4: Random Forest Classifier\n",
    "rf_model = RandomForestClassifier()\n",
    "rf_model.fit(X_train, y_train)\n",
    "rf_predictions = rf_model.predict(X_test)\n",
    "rf_accuracy = accuracy_score(y_test, rf_predictions)\n",
    "print(f'Random Forest Classifier Accuracy: {rf_accuracy:.2f}')"
   ]
  },
  {
   "cell_type": "code",
   "execution_count": 339,
   "id": "bb50df34-574d-4e27-9cba-3256ee8dea8c",
   "metadata": {},
   "outputs": [
    {
     "name": "stdout",
     "output_type": "stream",
     "text": [
      "Random Forest Classifier Accuracy: 0.79\n",
      "Sensitivity (Recall): 0.39\n",
      "Specificity: 0.94\n",
      "Positive Predictive Value (Precision): 0.69\n",
      "Negative Predictive Value: 0.81\n",
      "[[164  11]\n",
      " [ 39  25]]\n",
      "\n",
      "Classification Report:\n",
      "               precision    recall  f1-score   support\n",
      "\n",
      "           0       0.81      0.94      0.87       175\n",
      "           1       0.69      0.39      0.50        64\n",
      "\n",
      "    accuracy                           0.79       239\n",
      "   macro avg       0.75      0.66      0.68       239\n",
      "weighted avg       0.78      0.79      0.77       239\n",
      "\n",
      "     Feature  Importance\n",
      "2      hours    0.235784\n",
      "1        age    0.184053\n",
      "0      games    0.171209\n",
      "4     is_eur    0.043686\n",
      "3  is_female    0.028686\n"
     ]
    },
    {
     "data": {
      "image/png": "[encoded data removed]",
      "text/plain": [
       "<Figure size 1000x600 with 1 Axes>"
      ]
     },
     "metadata": {},
     "output_type": "display_data"
    }
   ],
   "source": [
    "from sklearn.metrics import confusion_matrix, precision_score, recall_score, accuracy_score\n",
    "conf_matrix = confusion_matrix(y_test, rf_predictions)\n",
    "tn, fp, fn, tp = conf_matrix.ravel()\n",
    "# Sensitivity (Recall)\n",
    "sensitivity = recall_score(y_test, rf_predictions)\n",
    "# Specificity\n",
    "specificity = tn / (tn + fp)\n",
    "# Positive Predictive Value (Precision)\n",
    "ppv = precision_score(y_test, rf_predictions)\n",
    "# Negative Predictive Value\n",
    "npv = tn / (tn + fn)\n",
    "# Accuracy\n",
    "accuracy = accuracy_score(y_test, rf_predictions)\n",
    "\n",
    "print(f'Random Forest Classifier Accuracy: {accuracy:.2f}')\n",
    "print(f'Sensitivity (Recall): {sensitivity:.2f}')\n",
    "print(f'Specificity: {specificity:.2f}')\n",
    "print(f'Positive Predictive Value (Precision): {ppv:.2f}')\n",
    "print(f'Negative Predictive Value: {npv:.2f}')\n",
    "print(conf_matrix)\n",
    "\n",
    "classification_rep = classification_report(y_test, rf_predictions)\n",
    "print(\"\\nClassification Report:\\n\", classification_rep)\n",
    "\n",
    "# Get feature importances\n",
    "feature_importances = rf_model.feature_importances_\n",
    "feature_importance_df = pd.DataFrame({'Feature': X.columns, 'Importance': feature_importances})\n",
    "\n",
    "# Sort the DataFrame by importance in descending order\n",
    "feature_importance_df = feature_importance_df.sort_values(by='Importance', ascending=False)\n",
    "\n",
    "# Display the top features and their importances\n",
    "print(feature_importance_df.head())\n",
    "\n",
    "# Plot the feature importances\n",
    "plt.figure(figsize=(10, 6))\n",
    "plt.barh(feature_importance_df['Feature'], feature_importance_df['Importance'])\n",
    "plt.xlabel('Importance')\n",
    "plt.ylabel('Feature')\n",
    "plt.title('Feature Importance')\n",
    "plt.show()"
   ]
  },
  {
   "cell_type": "markdown",
   "id": "2745ed97-8cc5-45b2-a2ce-9045173f167a",
   "metadata": {},
   "source": [
    "## Additional Pre-processing to Improve the Model "
   ]
  },
  {
   "cell_type": "markdown",
   "id": "bf899344-7ba7-4780-a651-3662e286f401",
   "metadata": {},
   "source": [
    "### 1. Identifying outliers"
   ]
  },
  {
   "cell_type": "code",
   "execution_count": 340,
   "id": "83fe71c9-80f8-4c01-b5cb-bbd6334b8fa7",
   "metadata": {},
   "outputs": [
    {
     "name": "stdout",
     "output_type": "stream",
     "text": [
      "Number of outliers in age: 51\n",
      "Number of outliers in games: 11\n",
      "Number of outliers in hours: 27\n"
     ]
    }
   ],
   "source": [
    "df_model = df[(df['is_churner'] != 2)]\n",
    "\n",
    "# Count outliers and remove them if justified\n",
    "\n",
    "for col in num_columns:\n",
    "    # Calculating IQR\n",
    "    Q1 = df_model[col].quantile(0.25)\n",
    "    Q3 = df_model[col].quantile(0.75)\n",
    "    IQR = Q3 - Q1\n",
    "\n",
    "    # Identifing outliers\n",
    "    outliers = ((df_model[col] < (Q1 - 1.5 * IQR)) | (df_model[col] > (Q3 + 1.5 * IQR)))\n",
    "    num_outliers = outliers.sum()\n",
    "    print(f'Number of outliers in {col}: {num_outliers}')\n",
    "    # Removing outliers\n",
    "    df_model = df_model[~outliers]\n",
    "\n",
    "df_model = df_model.reset_index(drop=True)\n"
   ]
  },
  {
   "cell_type": "markdown",
   "id": "59690a48-676b-43f4-835b-d6ec4c4f3671",
   "metadata": {},
   "source": [
    "### 2. Re-scaling continuous variables"
   ]
  },
  {
   "cell_type": "markdown",
   "id": "1ff3a473-c924-45a1-9719-e36cb02091f4",
   "metadata": {},
   "source": [
    "#### 2.1. Creating a scaler instance"
   ]
  },
  {
   "cell_type": "code",
   "execution_count": 341,
   "id": "7fc0ed6f-b839-4aa7-b0c0-6ebef10c298b",
   "metadata": {},
   "outputs": [],
   "source": [
    "from sklearn.preprocessing import MinMaxScaler\n",
    "\n",
    "scaler = MinMaxScaler()\n",
    "\n",
    "# columns to rescale\n",
    "columns_to_rescale = ['age', 'hours', 'games']\n",
    "\n",
    "# Fit the scaler on the training data and transform both training and test data\n",
    "X_train[columns_to_rescale] = scaler.fit_transform(X_train[columns_to_rescale])\n",
    "X_test[columns_to_rescale] = scaler.transform(X_test[columns_to_rescale])"
   ]
  },
  {
   "cell_type": "markdown",
   "id": "e1829406-0d6d-4e36-aae6-71df2578e7b8",
   "metadata": {},
   "source": [
    "#### 2.2. Re-running models after re-scaling "
   ]
  },
  {
   "cell_type": "code",
   "execution_count": 342,
   "id": "beaef3bb-3526-4b71-8f21-062885676560",
   "metadata": {},
   "outputs": [
    {
     "name": "stdout",
     "output_type": "stream",
     "text": [
      "Logistic Regression Accuracy (re-ran after re-scaling): 0.79\n"
     ]
    }
   ],
   "source": [
    "# re-running Logistic Regression\n",
    "logreg_model = LogisticRegression(max_iter=3000)\n",
    "logreg_model.fit(X_train, y_train)\n",
    "logreg_predictions = logreg_model.predict(X_test)\n",
    "logreg_accuracy = accuracy_score(y_test, logreg_predictions)\n",
    "print(f'Logistic Regression Accuracy (re-ran after re-scaling): {logreg_accuracy:.2f}')"
   ]
  },
  {
   "cell_type": "code",
   "execution_count": 343,
   "id": "f6c1f07d-6347-425d-becb-a833f7a81435",
   "metadata": {},
   "outputs": [
    {
     "name": "stdout",
     "output_type": "stream",
     "text": [
      "Random Forest Classifier Accuracy  (re-ran after re-scaling): 0.81\n"
     ]
    }
   ],
   "source": [
    "# re-running random Forest Classifier\n",
    "rf_model = RandomForestClassifier()\n",
    "rf_model.fit(X_train, y_train)\n",
    "rf_predictions = rf_model.predict(X_test)\n",
    "rf_accuracy = accuracy_score(y_test, rf_predictions)\n",
    "print(f'Random Forest Classifier Accuracy  (re-ran after re-scaling): {rf_accuracy:.2f}')"
   ]
  },
  {
   "cell_type": "markdown",
   "id": "217b61a9-9976-4fd5-9b64-7bf07e5c2da3",
   "metadata": {},
   "source": [
    "#### 3. Creating interaction terms"
   ]
  },
  {
   "cell_type": "code",
   "execution_count": 344,
   "id": "17d0512f-be6c-455c-94ab-f3598ab84691",
   "metadata": {},
   "outputs": [],
   "source": [
    "# Create interaction terms \n",
    "\n",
    "df_model['Age_Hours_Interaction'] = df_model['age'] * df_model['hours']\n",
    "df_model['Games_Hours_Interaction'] = df_model['games'] * df_model['hours']\n",
    "df_model['Age_Games_Interaction'] = df_model['age'] * df_model['games']\n",
    "\n",
    "# Separate features and target variable\n",
    "X = df_model.drop(['is_churner', 'account_id'], axis=1)\n",
    "y = df_model['is_churner']  \n",
    "\n",
    "# dropping the original columns that were recoded\n",
    "columns_to_drop = ['age', 'hours', 'games']\n",
    "X.drop(columns=columns_to_drop, inplace=True)\n",
    "X.reset_index(drop=True, inplace=True)\n",
    "\n",
    "# Split the data into training and testing sets\n",
    "X_train, X_test, y_train, y_test = train_test_split(X, y, test_size=0.2, random_state=42)"
   ]
  },
  {
   "cell_type": "markdown",
   "id": "0ab04214-c20d-49a5-bfa0-41a4da64dcad",
   "metadata": {},
   "source": [
    "##### 3.1. Re-running models with the interaction terms"
   ]
  },
  {
   "cell_type": "code",
   "execution_count": 345,
   "id": "51299486-783d-4c23-b5d0-2af3b8f0f610",
   "metadata": {},
   "outputs": [
    {
     "name": "stdout",
     "output_type": "stream",
     "text": [
      "<class 'pandas.core.frame.DataFrame'>\n",
      "RangeIndex: 1302 entries, 0 to 1301\n",
      "Data columns (total 25 columns):\n",
      " #   Column               Non-Null Count  Dtype  \n",
      "---  ------               --------------  -----  \n",
      " 0   account_id           1302 non-null   int64  \n",
      " 1   games                1302 non-null   int64  \n",
      " 2   age                  1302 non-null   int64  \n",
      " 3   hours                1302 non-null   float64\n",
      " 4   is_churner           1302 non-null   int64  \n",
      " 5   is_female            1302 non-null   bool   \n",
      " 6   is_eur               1302 non-null   bool   \n",
      " 7   plan_LARGE           1302 non-null   bool   \n",
      " 8   plan_MEDIUM          1302 non-null   bool   \n",
      " 9   plan_SMALL           1302 non-null   bool   \n",
      " 10  genre1_action        1302 non-null   bool   \n",
      " 11  genre1_adventure     1302 non-null   bool   \n",
      " 12  genre1_role-playing  1302 non-null   bool   \n",
      " 13  genre1_simulation    1302 non-null   bool   \n",
      " 14  genre1_sports        1302 non-null   bool   \n",
      " 15  genre1_strategy      1302 non-null   bool   \n",
      " 16  genre2_action        1302 non-null   bool   \n",
      " 17  genre2_adventure     1302 non-null   bool   \n",
      " 18  genre2_role-playing  1302 non-null   bool   \n",
      " 19  genre2_simulation    1302 non-null   bool   \n",
      " 20  genre2_sports        1302 non-null   bool   \n",
      " 21  genre2_strategy      1302 non-null   bool   \n",
      " 22  type_computer        1302 non-null   bool   \n",
      " 23  type_mobile          1302 non-null   bool   \n",
      " 24  type_tablet          1302 non-null   bool   \n",
      "dtypes: bool(20), float64(1), int64(4)\n",
      "memory usage: 76.4 KB\n"
     ]
    }
   ],
   "source": [
    "df_copy.info()"
   ]
  },
  {
   "cell_type": "code",
   "execution_count": 346,
   "id": "34f8321e-4947-4f4c-aff3-aec4460af4b5",
   "metadata": {
    "scrolled": true
   },
   "outputs": [
    {
     "name": "stdout",
     "output_type": "stream",
     "text": [
      "Logistic Regression Accuracy: 0.74\n",
      "\n",
      "Confusion Matrix:\n",
      " [[134  12]\n",
      " [ 45  30]]\n",
      "\n",
      "Classification Report:\n",
      "               precision    recall  f1-score   support\n",
      "\n",
      "           0       0.75      0.92      0.82       146\n",
      "           1       0.71      0.40      0.51        75\n",
      "\n",
      "    accuracy                           0.74       221\n",
      "   macro avg       0.73      0.66      0.67       221\n",
      "weighted avg       0.74      0.74      0.72       221\n",
      "\n"
     ]
    }
   ],
   "source": [
    "# Re-runnin Logistic Regression\n",
    "logreg_model = LogisticRegression(max_iter=3000)\n",
    "logreg_model.fit(X_train, y_train)\n",
    "logreg_predictions = logreg_model.predict(X_test)\n",
    "logreg_accuracy = accuracy_score(y_test, logreg_predictions)\n",
    "print(f'Logistic Regression Accuracy: {logreg_accuracy:.2f}')\n",
    "\n",
    "# re-evaluate the performance of the Logistic Regression model\n",
    "\n",
    "conf_matrix = confusion_matrix(y_test, logreg_predictions)\n",
    "classification_rep = classification_report(y_test, logreg_predictions)\n",
    "print(\"\\nConfusion Matrix:\\n\", conf_matrix)\n",
    "print(\"\\nClassification Report:\\n\", classification_rep)\n"
   ]
  },
  {
   "cell_type": "code",
   "execution_count": 347,
   "id": "f3c431a0-5dde-4e0c-82c1-e516453da031",
   "metadata": {},
   "outputs": [
    {
     "name": "stdout",
     "output_type": "stream",
     "text": [
      "Random Forest Classifier Accuracy: 0.71\n",
      "\n",
      "Confusion Matrix:\n",
      " [[137   9]\n",
      " [ 54  21]]\n",
      "\n",
      "Classification Report:\n",
      "               precision    recall  f1-score   support\n",
      "\n",
      "           0       0.72      0.94      0.81       146\n",
      "           1       0.70      0.28      0.40        75\n",
      "\n",
      "    accuracy                           0.71       221\n",
      "   macro avg       0.71      0.61      0.61       221\n",
      "weighted avg       0.71      0.71      0.67       221\n",
      "\n"
     ]
    }
   ],
   "source": [
    "# Re-running Random Forest Classifier\n",
    "rf_model = RandomForestClassifier()\n",
    "rf_model.fit(X_train, y_train)\n",
    "rf_predictions = rf_model.predict(X_test)\n",
    "rf_accuracy = accuracy_score(y_test, rf_predictions)\n",
    "print(f'Random Forest Classifier Accuracy: {rf_accuracy:.2f}')\n",
    "\n",
    "# Re-evaluate the performance of the random Forest Classifier model\n",
    "\n",
    "conf_matrix = confusion_matrix(y_test, rf_predictions)\n",
    "classification_rep = classification_report(y_test, rf_predictions)\n",
    "print(\"\\nConfusion Matrix:\\n\", conf_matrix)\n",
    "print(\"\\nClassification Report:\\n\", classification_rep)"
   ]
  },
  {
   "cell_type": "markdown",
   "id": "11ec1e52-6d87-41de-9873-fb4c287816e3",
   "metadata": {},
   "source": [
    "## 4. Hyperparameter Tuning"
   ]
  },
  {
   "cell_type": "markdown",
   "id": "2846660a-0f8c-42e9-a651-7eeaf6ecf52e",
   "metadata": {},
   "source": [
    "### 4.1. Logistic Regression"
   ]
  },
  {
   "cell_type": "code",
   "execution_count": 348,
   "id": "4d323531-fd9a-4630-adb3-c930d1d2e4f3",
   "metadata": {},
   "outputs": [
    {
     "name": "stdout",
     "output_type": "stream",
     "text": [
      "<class 'pandas.core.frame.DataFrame'>\n",
      "Index: 881 entries, 726 to 860\n",
      "Data columns (total 23 columns):\n",
      " #   Column                   Non-Null Count  Dtype  \n",
      "---  ------                   --------------  -----  \n",
      " 0   is_female                881 non-null    bool   \n",
      " 1   is_eur                   881 non-null    bool   \n",
      " 2   plan_LARGE               881 non-null    bool   \n",
      " 3   plan_MEDIUM              881 non-null    bool   \n",
      " 4   plan_SMALL               881 non-null    bool   \n",
      " 5   genre1_action            881 non-null    bool   \n",
      " 6   genre1_adventure         881 non-null    bool   \n",
      " 7   genre1_role-playing      881 non-null    bool   \n",
      " 8   genre1_simulation        881 non-null    bool   \n",
      " 9   genre1_sports            881 non-null    bool   \n",
      " 10  genre1_strategy          881 non-null    bool   \n",
      " 11  genre2_action            881 non-null    bool   \n",
      " 12  genre2_adventure         881 non-null    bool   \n",
      " 13  genre2_role-playing      881 non-null    bool   \n",
      " 14  genre2_simulation        881 non-null    bool   \n",
      " 15  genre2_sports            881 non-null    bool   \n",
      " 16  genre2_strategy          881 non-null    bool   \n",
      " 17  type_computer            881 non-null    bool   \n",
      " 18  type_mobile              881 non-null    bool   \n",
      " 19  type_tablet              881 non-null    bool   \n",
      " 20  Age_Hours_Interaction    881 non-null    float64\n",
      " 21  Games_Hours_Interaction  881 non-null    float64\n",
      " 22  Age_Games_Interaction    881 non-null    int64  \n",
      "dtypes: bool(20), float64(2), int64(1)\n",
      "memory usage: 44.7 KB\n"
     ]
    }
   ],
   "source": [
    "X_train.info()"
   ]
  },
  {
   "cell_type": "code",
   "execution_count": 349,
   "id": "e6d84196-6c88-4c1b-8023-8548360cc04e",
   "metadata": {},
   "outputs": [
    {
     "name": "stdout",
     "output_type": "stream",
     "text": [
      "Best Hyperparameters: {'C': 0.1, 'penalty': 'l2'}\n",
      "Final Logistic Regression Accuracy: 0.74\n",
      "\n",
      "Final Confusion Matrix:\n",
      " [[134  12]\n",
      " [ 45  30]]\n",
      "\n",
      "Final Classification Report:\n",
      "               precision    recall  f1-score   support\n",
      "\n",
      "           0       0.75      0.92      0.82       146\n",
      "           1       0.71      0.40      0.51        75\n",
      "\n",
      "    accuracy                           0.74       221\n",
      "   macro avg       0.73      0.66      0.67       221\n",
      "weighted avg       0.74      0.74      0.72       221\n",
      "\n"
     ]
    }
   ],
   "source": [
    "from sklearn.model_selection import GridSearchCV\n",
    "\n",
    "# hyperparameters to tune\n",
    "param_grid = {\n",
    "    'penalty': ['l2'],  # lbfgs solver only supports 'l2' penalty\n",
    "    'C': [0.001, 0.01, 0.1, 1, 10, 100, 1000],\n",
    "}\n",
    "\n",
    "# Creating GridSearchCV object\n",
    "grid_search = GridSearchCV(logreg_model, param_grid, cv=5, scoring='accuracy')\n",
    "\n",
    "# Perform grid search on the training data\n",
    "grid_search.fit(X_train, y_train)\n",
    "\n",
    "# Finding the best hyperparameters\n",
    "best_params = grid_search.best_params_\n",
    "print(f'Best Hyperparameters: {best_params}')\n",
    "\n",
    "# Using best hyperparameters to create the final model\n",
    "\n",
    "final_logreg_model = LogisticRegression(\n",
    "    max_iter=3000,\n",
    "    penalty=best_params['penalty'],\n",
    "    C=best_params['C']\n",
    ")\n",
    "\n",
    "# fitting the best parameter model on the entire training set\n",
    "final_logreg_model.fit(X_train, y_train)\n",
    "\n",
    "# predictions on the test set\n",
    "final_logreg_predictions = final_logreg_model.predict(X_test)\n",
    "\n",
    "# Re-evaluating the performance of the final Logistic Regression model\n",
    "final_logreg_accuracy = accuracy_score(y_test, final_logreg_predictions)\n",
    "final_conf_matrix = confusion_matrix(y_test, final_logreg_predictions)\n",
    "final_classification_rep = classification_report(y_test, final_logreg_predictions)\n",
    "\n",
    "# Step 11: Print the final results\n",
    "print(f'Final Logistic Regression Accuracy: {final_logreg_accuracy:.2f}')\n",
    "print(\"\\nFinal Confusion Matrix:\\n\", final_conf_matrix)\n",
    "print(\"\\nFinal Classification Report:\\n\", final_classification_rep)\n"
   ]
  },
  {
   "cell_type": "markdown",
   "id": "a3b11ccd-f9c4-4f54-952c-b63215dba1da",
   "metadata": {},
   "source": [
    "### 4.2. Random Forest "
   ]
  },
  {
   "cell_type": "code",
   "execution_count": 350,
   "id": "0050c828-e97a-4ec3-b6ed-55562faa4371",
   "metadata": {},
   "outputs": [
    {
     "name": "stdout",
     "output_type": "stream",
     "text": [
      "Best Hyperparameters for Random Forest: {'max_depth': 30, 'min_samples_leaf': 1, 'min_samples_split': 2, 'n_estimators': 200}\n",
      "Random Forest Classifier Accuracy with Tuned Hyperparameters: 0.71\n",
      "\n",
      "Confusion Matrix:\n",
      " [[135  11]\n",
      " [ 53  22]]\n",
      "\n",
      "Classification Report:\n",
      "               precision    recall  f1-score   support\n",
      "\n",
      "           0       0.72      0.92      0.81       146\n",
      "           1       0.67      0.29      0.41        75\n",
      "\n",
      "    accuracy                           0.71       221\n",
      "   macro avg       0.69      0.61      0.61       221\n",
      "weighted avg       0.70      0.71      0.67       221\n",
      "\n"
     ]
    }
   ],
   "source": [
    "# Define Random Forest model\n",
    "rf_model = RandomForestClassifier()\n",
    "\n",
    "#  hyperparameters to tune\n",
    "param_grid = {\n",
    "    'n_estimators': [50, 100, 200],\n",
    "    'max_depth': [None, 10, 20, 30],\n",
    "    'min_samples_split': [2, 5, 10],\n",
    "    'min_samples_leaf': [1, 2, 4]\n",
    "}\n",
    "\n",
    "# Create GridSearchCV object\n",
    "grid_search_rf = GridSearchCV(rf_model, param_grid, cv=5, scoring='accuracy')\n",
    "\n",
    "# Perform grid search on the training data\n",
    "grid_search_rf.fit(X_train, y_train)\n",
    "\n",
    "# Get the best hyperparameters\n",
    "best_params_rf = grid_search_rf.best_params_\n",
    "print(f'Best Hyperparameters for Random Forest: {best_params_rf}')\n",
    "\n",
    "# Use the best model to make predictions on the test set\n",
    "rf_predictions_tuned = grid_search_rf.predict(X_test)\n",
    "\n",
    "# Evaluate the performance of the Random Forest model with tuned hyperparameters\n",
    "rf_accuracy_tuned = accuracy_score(y_test, rf_predictions_tuned)\n",
    "conf_matrix_rf_tuned = confusion_matrix(y_test, rf_predictions_tuned)\n",
    "classification_rep_rf_tuned = classification_report(y_test, rf_predictions_tuned)\n",
    "\n",
    "print(f'Random Forest Classifier Accuracy with Tuned Hyperparameters: {rf_accuracy_tuned:.2f}')\n",
    "print(\"\\nConfusion Matrix:\\n\", conf_matrix_rf_tuned)\n",
    "print(\"\\nClassification Report:\\n\", classification_rep_rf_tuned)\n"
   ]
  },
  {
   "cell_type": "markdown",
   "id": "88bf249e-fcb2-4456-88c7-4b7c3050acb3",
   "metadata": {},
   "source": [
    "# Who will churn?\n"
   ]
  },
  {
   "cell_type": "markdown",
   "id": "bc582512-87e0-410b-a5f6-1929004c39f6",
   "metadata": {},
   "source": [
    "Use the model created in exercise 2, to predict the users that will become churners.\n",
    "Use the users from whom you know the data needed as input for the model (at least 3\n",
    "months order payments), but we do not know if they will become churners or not"
   ]
  },
  {
   "cell_type": "code",
   "execution_count": 351,
   "id": "2aecce50-9eb2-4255-8467-5ab678f7475e",
   "metadata": {},
   "outputs": [
    {
     "data": {
      "text/html": [
       "<div>\n",
       "<style scoped>\n",
       "    .dataframe tbody tr th:only-of-type {\n",
       "        vertical-align: middle;\n",
       "    }\n",
       "\n",
       "    .dataframe tbody tr th {\n",
       "        vertical-align: top;\n",
       "    }\n",
       "\n",
       "    .dataframe thead th {\n",
       "        text-align: right;\n",
       "    }\n",
       "</style>\n",
       "<table border=\"1\" class=\"dataframe\">\n",
       "  <thead>\n",
       "    <tr style=\"text-align: right;\">\n",
       "      <th></th>\n",
       "      <th>account_id</th>\n",
       "      <th>is_churner_predict</th>\n",
       "    </tr>\n",
       "  </thead>\n",
       "  <tbody>\n",
       "    <tr>\n",
       "      <th>46</th>\n",
       "      <td>528797743</td>\n",
       "      <td>0</td>\n",
       "    </tr>\n",
       "    <tr>\n",
       "      <th>73</th>\n",
       "      <td>295039119</td>\n",
       "      <td>0</td>\n",
       "    </tr>\n",
       "    <tr>\n",
       "      <th>85</th>\n",
       "      <td>325893747</td>\n",
       "      <td>0</td>\n",
       "    </tr>\n",
       "    <tr>\n",
       "      <th>92</th>\n",
       "      <td>557591166</td>\n",
       "      <td>0</td>\n",
       "    </tr>\n",
       "    <tr>\n",
       "      <th>94</th>\n",
       "      <td>523024296</td>\n",
       "      <td>0</td>\n",
       "    </tr>\n",
       "    <tr>\n",
       "      <th>...</th>\n",
       "      <td>...</td>\n",
       "      <td>...</td>\n",
       "    </tr>\n",
       "    <tr>\n",
       "      <th>1263</th>\n",
       "      <td>782793965</td>\n",
       "      <td>1</td>\n",
       "    </tr>\n",
       "    <tr>\n",
       "      <th>1276</th>\n",
       "      <td>101326362</td>\n",
       "      <td>1</td>\n",
       "    </tr>\n",
       "    <tr>\n",
       "      <th>1287</th>\n",
       "      <td>619588831</td>\n",
       "      <td>0</td>\n",
       "    </tr>\n",
       "    <tr>\n",
       "      <th>1291</th>\n",
       "      <td>494273232</td>\n",
       "      <td>0</td>\n",
       "    </tr>\n",
       "    <tr>\n",
       "      <th>1296</th>\n",
       "      <td>323619017</td>\n",
       "      <td>0</td>\n",
       "    </tr>\n",
       "  </tbody>\n",
       "</table>\n",
       "<p>111 rows × 2 columns</p>\n",
       "</div>"
      ],
      "text/plain": [
       "      account_id  is_churner_predict\n",
       "46     528797743                   0\n",
       "73     295039119                   0\n",
       "85     325893747                   0\n",
       "92     557591166                   0\n",
       "94     523024296                   0\n",
       "...          ...                 ...\n",
       "1263   782793965                   1\n",
       "1276   101326362                   1\n",
       "1287   619588831                   0\n",
       "1291   494273232                   0\n",
       "1296   323619017                   0\n",
       "\n",
       "[111 rows x 2 columns]"
      ]
     },
     "execution_count": 351,
     "metadata": {},
     "output_type": "execute_result"
    }
   ],
   "source": [
    "df_predictions = df_copy[(df_copy['is_churner'] == 2)]\n",
    "X_new = df_predictions.drop(['is_churner', 'account_id'], axis=1)\n",
    "predictions = logreg_model_v1.predict(X_new)\n",
    "predictions_df = df_predictions.copy()\n",
    "predictions_df['is_churner_predict'] = predictions\n",
    "predictions_df[['account_id', 'is_churner_predict']]"
   ]
  },
  {
   "cell_type": "code",
   "execution_count": 352,
   "id": "b6c588b0-9b03-4ae8-859c-fb4b5bca56d0",
   "metadata": {},
   "outputs": [
    {
     "data": {
      "text/plain": [
       "is_churner_predict\n",
       "0    107\n",
       "1      4\n",
       "Name: count, dtype: int64"
      ]
     },
     "execution_count": 352,
     "metadata": {},
     "output_type": "execute_result"
    }
   ],
   "source": [
    "predictions_df['is_churner_predict'].value_counts()"
   ]
  },
  {
   "cell_type": "code",
   "execution_count": null,
   "id": "41d6ae05-aa89-45b4-978f-b69ce1c14f8c",
   "metadata": {},
   "outputs": [],
   "source": [
    "predictions_df = predictions_df[['account_id', 'is_churner_predict']]\n",
    "predictions_df.head()"
   ]
  },
  {
   "cell_type": "code",
   "execution_count": 353,
   "id": "f569b964-b8d2-469b-8381-aa33b026cdf5",
   "metadata": {},
   "outputs": [],
   "source": [
    "# Saving a file with a list of account_ids and predicted churn status\n",
    "\n",
    "predictions_df.to_csv('predicted_churners.csv', index=False)"
   ]
  },
  {
   "cell_type": "code",
   "execution_count": 354,
   "id": "33f7f5d4-beb2-4c86-b20c-f90cbcaf6786",
   "metadata": {},
   "outputs": [
    {
     "name": "stdout",
     "output_type": "stream",
     "text": [
      "Current Working Directory: C:\\Users\\LLANA\\Desktop\\CodeOpAssignments\\qustodio tech test\n"
     ]
    }
   ],
   "source": [
    "import os\n",
    "\n",
    "current_directory = os.getcwd()\n",
    "print(\"Current Working Directory:\", current_directory)"
   ]
  },
  {
   "cell_type": "code",
   "execution_count": null,
   "id": "db602644-ac78-40e6-9efa-4495c5e22bd6",
   "metadata": {},
   "outputs": [],
   "source": []
  }
 ],
 "metadata": {
  "kernelspec": {
   "display_name": "Python 3 (ipykernel)",
   "language": "python",
   "name": "python3"
  },
  "language_info": {
   "codemirror_mode": {
    "name": "ipython",
    "version": 3
   },
   "file_extension": ".py",
   "mimetype": "text/x-python",
   "name": "python",
   "nbconvert_exporter": "python",
   "pygments_lexer": "ipython3",
   "version": "3.11.7"
  }
 },
 "nbformat": 4,
 "nbformat_minor": 5
}
